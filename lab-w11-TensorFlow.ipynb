{
 "cells": [
  {
   "cell_type": "code",
   "execution_count": 3,
   "metadata": {},
   "outputs": [
    {
     "name": "stdout",
     "output_type": "stream",
     "text": [
      "TensorFlow version: 2.7.0\n"
     ]
    }
   ],
   "source": [
    "#https://github.com/tensorflow/tensorflow\n",
    "#ติดตั้ง Tensorflow\n",
    "#1. $ pip install tensorflow\n",
    "#2. $ pip install tensorflow-cpu\n",
    "import tensorflow as tf\n",
    "print(\"TensorFlow version:\", tf.__version__)"
   ]
  },
  {
   "cell_type": "code",
   "execution_count": 4,
   "metadata": {},
   "outputs": [
    {
     "name": "stdout",
     "output_type": "stream",
     "text": [
      "Downloading data from https://storage.googleapis.com/tensorflow/tf-keras-datasets/mnist.npz\n",
      "11493376/11490434 [==============================] - 3s 0us/step\n",
      "11501568/11490434 [==============================] - 3s 0us/step\n"
     ]
    }
   ],
   "source": [
    "mnist = tf.keras.datasets.mnist\n",
    "\n",
    "(x_train, y_train), (x_test, y_test) = mnist.load_data()"
   ]
  },
  {
   "cell_type": "code",
   "execution_count": 5,
   "metadata": {},
   "outputs": [],
   "source": [
    "model = tf.keras.models.Sequential([\n",
    "  tf.keras.layers.Flatten(input_shape=(28, 28)),\n",
    "  tf.keras.layers.Dense(128, activation='relu'),\n",
    "  tf.keras.layers.Dropout(0.2),\n",
    "  tf.keras.layers.Dense(10)\n",
    "])"
   ]
  },
  {
   "cell_type": "code",
   "execution_count": 10,
   "metadata": {},
   "outputs": [
    {
     "data": {
      "text/plain": [
       "array([[ -51.46792  ,  -43.203075 ,    6.4978724,   69.20604  ,\n",
       "          -7.2439976, -101.78792  ,  -74.11035  ,   42.08808  ,\n",
       "         -42.017372 ,  152.88225  ]], dtype=float32)"
      ]
     },
     "execution_count": 10,
     "metadata": {},
     "output_type": "execute_result"
    }
   ],
   "source": [
    "predictions = model(x_train[:1]).numpy()\n",
    "predictions"
   ]
  },
  {
   "cell_type": "code",
   "execution_count": 11,
   "metadata": {},
   "outputs": [
    {
     "data": {
      "text/plain": [
       "array([[0.0000000e+00, 0.0000000e+00, 0.0000000e+00, 4.5696652e-37,\n",
       "        0.0000000e+00, 0.0000000e+00, 0.0000000e+00, 0.0000000e+00,\n",
       "        0.0000000e+00, 1.0000000e+00]], dtype=float32)"
      ]
     },
     "execution_count": 11,
     "metadata": {},
     "output_type": "execute_result"
    }
   ],
   "source": [
    "tf.nn.softmax(predictions).numpy()"
   ]
  },
  {
   "cell_type": "code",
   "execution_count": 13,
   "metadata": {},
   "outputs": [
    {
     "data": {
      "text/plain": [
       "254.67017"
      ]
     },
     "execution_count": 13,
     "metadata": {},
     "output_type": "execute_result"
    }
   ],
   "source": [
    "loss_fn = tf.keras.losses.SparseCategoricalCrossentropy(from_logits=True)\n",
    "loss_fn(y_train[:1], predictions).numpy()"
   ]
  },
  {
   "cell_type": "code",
   "execution_count": 14,
   "metadata": {},
   "outputs": [],
   "source": [
    "model.compile(optimizer='adam',\n",
    "              loss=loss_fn,\n",
    "              metrics=['accuracy'])"
   ]
  },
  {
   "cell_type": "code",
   "execution_count": 15,
   "metadata": {},
   "outputs": [
    {
     "name": "stdout",
     "output_type": "stream",
     "text": [
      "Epoch 1/5\n",
      "1875/1875 [==============================] - 2s 940us/step - loss: 2.5117 - accuracy: 0.7605\n",
      "Epoch 2/5\n",
      "1875/1875 [==============================] - 2s 888us/step - loss: 0.6110 - accuracy: 0.8395\n",
      "Epoch 3/5\n",
      "1875/1875 [==============================] - 2s 915us/step - loss: 0.4986 - accuracy: 0.8690\n",
      "Epoch 4/5\n",
      "1875/1875 [==============================] - 2s 902us/step - loss: 0.4287 - accuracy: 0.8914\n",
      "Epoch 5/5\n",
      "1875/1875 [==============================] - 2s 915us/step - loss: 0.3920 - accuracy: 0.9013\n"
     ]
    },
    {
     "data": {
      "text/plain": [
       "<keras.callbacks.History at 0x17ebe67c160>"
      ]
     },
     "execution_count": 15,
     "metadata": {},
     "output_type": "execute_result"
    }
   ],
   "source": [
    "model.fit(x_train, y_train, epochs=5)"
   ]
  },
  {
   "cell_type": "code",
   "execution_count": 16,
   "metadata": {},
   "outputs": [
    {
     "name": "stdout",
     "output_type": "stream",
     "text": [
      "313/313 - 0s - loss: 0.3090 - accuracy: 0.9215 - 266ms/epoch - 851us/step\n"
     ]
    },
    {
     "data": {
      "text/plain": [
       "[0.3090318739414215, 0.921500027179718]"
      ]
     },
     "execution_count": 16,
     "metadata": {},
     "output_type": "execute_result"
    }
   ],
   "source": [
    "model.evaluate(x_test,  y_test, verbose=2)"
   ]
  },
  {
   "cell_type": "code",
   "execution_count": 18,
   "metadata": {},
   "outputs": [],
   "source": [
    "probability_model = tf.keras.Sequential([\n",
    "  model,\n",
    "  tf.keras.layers.Softmax()\n",
    "])"
   ]
  },
  {
   "cell_type": "code",
   "execution_count": 19,
   "metadata": {},
   "outputs": [
    {
     "data": {
      "text/plain": [
       "<tf.Tensor: shape=(5, 10), dtype=float32, numpy=\n",
       "array([[4.64417575e-37, 2.47622847e-25, 8.59536661e-12, 3.15569253e-07,\n",
       "        3.97661930e-22, 3.02052158e-24, 0.00000000e+00, 9.99999642e-01,\n",
       "        0.00000000e+00, 6.68769770e-12],\n",
       "       [1.88883814e-06, 1.55914109e-02, 9.51650739e-01, 3.19742821e-02,\n",
       "        2.59455352e-04, 1.14612674e-04, 4.40500880e-05, 9.21956289e-09,\n",
       "        3.63639963e-04, 3.09937013e-14],\n",
       "       [3.84504094e-27, 1.00000000e+00, 3.08407158e-16, 3.05016366e-17,\n",
       "        5.04073519e-11, 4.11926614e-17, 2.32943656e-12, 8.03650702e-10,\n",
       "        3.40874315e-14, 8.73394356e-23],\n",
       "       [9.85458851e-01, 2.28244739e-32, 7.72441272e-05, 7.68269092e-05,\n",
       "        6.21190657e-06, 1.46823202e-03, 1.35449431e-04, 1.25106927e-02,\n",
       "        2.53431994e-04, 1.30318776e-05],\n",
       "       [2.05731526e-11, 3.28864358e-09, 1.75088076e-06, 3.48826545e-09,\n",
       "        9.99966145e-01, 7.37125134e-08, 1.33733091e-09, 3.55774091e-07,\n",
       "        9.85360349e-10, 3.15622201e-05]], dtype=float32)>"
      ]
     },
     "execution_count": 19,
     "metadata": {},
     "output_type": "execute_result"
    }
   ],
   "source": [
    "probability_model(x_test[:5])"
   ]
  }
 ],
 "metadata": {
  "kernelspec": {
   "display_name": "Python 3",
   "language": "python",
   "name": "python3"
  },
  "language_info": {
   "codemirror_mode": {
    "name": "ipython",
    "version": 3
   },
   "file_extension": ".py",
   "mimetype": "text/x-python",
   "name": "python",
   "nbconvert_exporter": "python",
   "pygments_lexer": "ipython3",
   "version": "3.8.6"
  }
 },
 "nbformat": 4,
 "nbformat_minor": 4
}
