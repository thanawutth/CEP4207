{
 "cells": [
  {
   "cell_type": "code",
   "execution_count": 1,
   "metadata": {},
   "outputs": [],
   "source": [
    "# PyGAD - Python Genetic Algorithm\n",
    "# source : https://pygad.readthedocs.io/en/latest/index.html\n",
    "# installation : cmd >> pip3 install pygad\n",
    "import pygad\n",
    "import numpy"
   ]
  },
  {
   "cell_type": "code",
   "execution_count": 20,
   "metadata": {},
   "outputs": [],
   "source": [
    "# y = f(w1:w6) = w1x1 + w2x2 + w3x3 + w4x4 + w5x5 + 6wx6 \n",
    "# where (x1,x2,x3,x4,x5,x6)=(4,-2,3.5,5,-11,-4.7) and y=44"
   ]
  },
  {
   "cell_type": "code",
   "execution_count": 2,
   "metadata": {},
   "outputs": [],
   "source": [
    "function_inputs = [4,-2,3.5,5,-11,-4.7]\n",
    "desired_output = 44\n",
    "\n",
    "def fitness_func(solution, solution_idx):\n",
    "    output = numpy.sum(solution*function_inputs)\n",
    "    fitness = 1.0 / numpy.abs(output - desired_output)\n",
    "    return fitness\n",
    "\n",
    "fitness_function = fitness_func\n",
    "\n",
    "num_generations = 50\n",
    "num_parents_mating = 4\n",
    "\n",
    "sol_per_pop = 8\n",
    "num_genes = len(function_inputs)\n",
    "\n",
    "init_range_low = -2\n",
    "init_range_high = 5\n",
    "\n",
    "parent_selection_type = \"sss\"\n",
    "keep_parents = 1\n",
    "\n",
    "crossover_type = \"single_point\"\n",
    "\n",
    "mutation_type = \"random\"\n",
    "mutation_percent_genes = 10"
   ]
  },
  {
   "cell_type": "code",
   "execution_count": 25,
   "metadata": {},
   "outputs": [
    {
     "name": "stdout",
     "output_type": "stream",
     "text": [
      "Parameters of the best solution : [-0.82255553  1.24813302  4.39614836  4.47488478 -0.89275498 -0.4629566 ]\n",
      "Fitness value of the best solution = 34.078221176379074\n",
      "Predicted output based on the best solution : 43.97065574535642\n"
     ]
    }
   ],
   "source": [
    "ga_instance = pygad.GA(num_generations=num_generations,\n",
    "                       num_parents_mating=num_parents_mating,\n",
    "                       fitness_func=fitness_function,\n",
    "                       sol_per_pop=sol_per_pop,\n",
    "                       num_genes=num_genes,\n",
    "                       init_range_low=init_range_low,\n",
    "                       init_range_high=init_range_high,\n",
    "                       parent_selection_type=parent_selection_type,\n",
    "                       keep_parents=keep_parents,\n",
    "                       crossover_type=crossover_type,\n",
    "                       mutation_type=mutation_type,\n",
    "                       mutation_percent_genes=mutation_percent_genes)\n",
    "ga_instance.run()\n",
    "solution, solution_fitness, solution_idx = ga_instance.best_solution()\n",
    "print(\"Parameters of the best solution : {solution}\".format(solution=solution))\n",
    "print(\"Fitness value of the best solution = {solution_fitness}\".format(solution_fitness=solution_fitness))\n",
    "\n",
    "prediction = numpy.sum(numpy.array(function_inputs)*solution)\n",
    "print(\"Predicted output based on the best solution : {prediction}\".format(prediction=prediction))"
   ]
  },
  {
   "cell_type": "code",
   "execution_count": 28,
   "metadata": {
    "scrolled": true
   },
   "outputs": [
    {
     "data": {
      "image/png": "[encoded data removed]",
      "text/plain": [
       "<Figure size 432x288 with 1 Axes>"
      ]
     },
     "metadata": {
      "needs_background": "light"
     },
     "output_type": "display_data"
    },
    {
     "data": {
      "image/png": "[encoded data removed]",
      "text/plain": [
       "<Figure size 432x288 with 1 Axes>"
      ]
     },
     "execution_count": 28,
     "metadata": {},
     "output_type": "execute_result"
    }
   ],
   "source": [
    "import pygad\n",
    "import numpy\n",
    "\n",
    "equation_inputs = [4,-2,3.5]\n",
    "desired_output = 44\n",
    "\n",
    "def fitness_func(solution, solution_idx):\n",
    "    output = numpy.sum(solution * equation_inputs)\n",
    "\n",
    "    fitness = 1.0 / (numpy.abs(output - desired_output) + 0.000001)\n",
    "\n",
    "    return fitness\n",
    "\n",
    "def parent_selection_func(fitness, num_parents, ga_instance):\n",
    "\n",
    "    fitness_sorted = sorted(range(len(fitness)), key=lambda k: fitness[k])\n",
    "    fitness_sorted.reverse()\n",
    "\n",
    "    parents = numpy.empty((num_parents, ga_instance.population.shape[1]))\n",
    "\n",
    "    for parent_num in range(num_parents):\n",
    "        parents[parent_num, :] = ga_instance.population[fitness_sorted[parent_num], :].copy()\n",
    "\n",
    "    return parents, fitness_sorted[:num_parents]\n",
    "\n",
    "def crossover_func(parents, offspring_size, ga_instance):\n",
    "\n",
    "    offspring = []\n",
    "    idx = 0\n",
    "    while len(offspring) != offspring_size[0]:\n",
    "        parent1 = parents[idx % parents.shape[0], :].copy()\n",
    "        parent2 = parents[(idx + 1) % parents.shape[0], :].copy()\n",
    "\n",
    "        random_split_point = numpy.random.choice(range(offspring_size[0]))\n",
    "\n",
    "        parent1[random_split_point:] = parent2[random_split_point:]\n",
    "\n",
    "        offspring.append(parent1)\n",
    "\n",
    "        idx += 1\n",
    "\n",
    "    return numpy.array(offspring)\n",
    "\n",
    "def mutation_func(offspring, ga_instance):\n",
    "\n",
    "    for chromosome_idx in range(offspring.shape[0]):\n",
    "        random_gene_idx = numpy.random.choice(range(offspring.shape[0]))\n",
    "\n",
    "        offspring[chromosome_idx, random_gene_idx] += numpy.random.random()\n",
    "\n",
    "    return offspring\n",
    "\n",
    "ga_instance = pygad.GA(num_generations=1000,\n",
    "                       sol_per_pop=5,\n",
    "                       num_parents_mating=2,\n",
    "                       num_genes=len(equation_inputs),\n",
    "                       fitness_func=fitness_func,\n",
    "                       crossover_type=crossover_func,\n",
    "                       mutation_type=mutation_func,\n",
    "                       parent_selection_type=parent_selection_func)\n",
    "\n",
    "ga_instance.run()\n",
    "ga_instance.plot_fitness()"
   ]
  },
  {
   "cell_type": "code",
   "execution_count": 30,
   "metadata": {},
   "outputs": [
    {
     "name": "stdout",
     "output_type": "stream",
     "text": [
      "Initial Population\n",
      "[[ 0 -3  0  2  2]\n",
      " [ 0  3  3 -1  1]\n",
      " [-3 -3  3  0 -3]\n",
      " [ 1  1  2  0  3]\n",
      " [ 3  1 -2  0  2]]\n",
      "Final Population\n",
      "[[ 0 -3  3  0 -3]\n",
      " [ 0 -3  3  0 -3]\n",
      " [ 0 -2  3  0 -3]\n",
      " [ 0 -3  3  0 -3]\n",
      " [ 0 -3  3  0 -3]]\n"
     ]
    }
   ],
   "source": [
    "import pygad\n",
    "import numpy\n",
    "\n",
    "equation_inputs = [4, -2, 3.5, 8, -2]\n",
    "desired_output = 2671.1234\n",
    "\n",
    "def fitness_func(solution, solution_idx):\n",
    "    output = numpy.sum(solution * equation_inputs)\n",
    "    fitness = 1.0 / (numpy.abs(output - desired_output) + 0.000001)\n",
    "    return fitness\n",
    "\n",
    "ga_instance = pygad.GA(num_generations=1000,\n",
    "                       sol_per_pop=5,\n",
    "                       num_parents_mating=2,\n",
    "                       num_genes=len(equation_inputs),\n",
    "                       fitness_func=fitness_func,\n",
    "                       gene_type=int)\n",
    "\n",
    "print(\"Initial Population\")\n",
    "print(ga_instance.initial_population)\n",
    "\n",
    "ga_instance.run()\n",
    "\n",
    "print(\"Final Population\")\n",
    "print(ga_instance.population)"
   ]
  }
 ],
 "metadata": {
  "kernelspec": {
   "display_name": "Python 3",
   "language": "python",
   "name": "python3"
  },
  "language_info": {
   "codemirror_mode": {
    "name": "ipython",
    "version": 3
   },
   "file_extension": ".py",
   "mimetype": "text/x-python",
   "name": "python",
   "nbconvert_exporter": "python",
   "pygments_lexer": "ipython3",
   "version": "3.8.6"
  }
 },
 "nbformat": 4,
 "nbformat_minor": 4
}
