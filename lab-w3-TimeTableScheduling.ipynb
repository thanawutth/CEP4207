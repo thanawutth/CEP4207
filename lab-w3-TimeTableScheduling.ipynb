{
 "cells": [
  {
   "cell_type": "code",
   "execution_count": 1,
   "metadata": {},
   "outputs": [],
   "source": [
    "import numpy as np\n",
    "\n",
    "class Teachers:\n",
    "    def __init__(self):\n",
    "        self.Tname = {\n",
    "                        \"Pumipong\", #0\n",
    "                        \"Atikhom\",  #1\n",
    "                        \"Kittikorn\",#2\n",
    "                        \"Mayoon\",   #3\n",
    "                        \"Thanawut\"  #4\n",
    "                     }\n",
    "    def getTeacherName(self):\n",
    "        return self.Tname\n",
    "    \n",
    "class Rooms:\n",
    "    def __init__(self):\n",
    "        self.Rname = {\n",
    "                        \"4911\",  #0\n",
    "                        \"4912\",  #1\n",
    "                        \"4914\",  #2\n",
    "                        \"4921\",  #3\n",
    "                        \"4922\"   #4\n",
    "                     }\n",
    "        self.SlotRoom = np.array( [\n",
    "                                    [0],[0], \n",
    "                                    [0],[0], \n",
    "                                    [0],[0],\n",
    "                                    [0],[0],\n",
    "                                    [0],[0]\n",
    "                                ] )\n",
    "        self.SlotRoomWeek = np.array( [self.SlotRoom for _ in range(len(self.Rname))] # Ex . for five rooms\n",
    "                                    )\n",
    "    def getRoomsName(self):\n",
    "        return self.Rname\n",
    "    def getRoomWeek(self):\n",
    "        return self.SlotRoomWeek\n",
    "\n",
    "class CoursesWorkload:\n",
    "    def __init__(self):\n",
    "        self.CWL= np.array([   # Course , Teacher , Room, TimeSlot \n",
    "                                [\"CPE1111\", 0, -1, -1 ],\n",
    "                                [\"CPE1112\", 0, -1, -1 ],\n",
    "                                [\"CPE1113\", 0, -1, -1 ],\n",
    "                                \n",
    "                            ])\n",
    "    def getCourseWorkload(self):\n",
    "        return self.CWL\n",
    "\n",
    "\n",
    "\n",
    "\n"
   ]
  },
  {
   "cell_type": "code",
   "execution_count": 2,
   "metadata": {},
   "outputs": [
    {
     "name": "stdout",
     "output_type": "stream",
     "text": [
      "[0] [0] \n",
      "[0] [0] \n",
      "[0] [0] \n",
      "[0] [0] \n",
      "[0] [0] \n"
     ]
    }
   ],
   "source": [
    "# ------ Main Class ------\n",
    "def Scheduling( Cwl, Rm):\n",
    "    DisplayRoom(Rm,2)\n",
    "\n",
    "def DisplayRoom(Rm, i):\n",
    "    for sl in range(len(Rm[i])):\n",
    "        print(Rm[i,sl], end=\" \")\n",
    "        if sl%2 == 1 :\n",
    "            print()\n",
    "    \n",
    "T = Teachers()\n",
    "R = Rooms()\n",
    "C = CoursesWorkload()\n",
    "Scheduling(C.getCourseWorkload(), R.getRoomWeek())"
   ]
  }
 ],
 "metadata": {
  "kernelspec": {
   "display_name": "Python 3",
   "language": "python",
   "name": "python3"
  },
  "language_info": {
   "codemirror_mode": {
    "name": "ipython",
    "version": 3
   },
   "file_extension": ".py",
   "mimetype": "text/x-python",
   "name": "python",
   "nbconvert_exporter": "python",
   "pygments_lexer": "ipython3",
   "version": "3.8.6"
  }
 },
 "nbformat": 4,
 "nbformat_minor": 4
}
